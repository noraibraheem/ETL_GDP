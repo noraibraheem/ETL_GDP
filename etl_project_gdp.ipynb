{
 "cells": [
  {
   "cell_type": "markdown",
   "metadata": {},
   "source": [
    "<h2>Importing</h2>"
   ]
  },
  {
   "cell_type": "code",
   "execution_count": 51,
   "metadata": {},
   "outputs": [],
   "source": [
    "import requests\n",
    "import pandas as pd\n",
    "import numpy as np\n",
    "from bs4 import BeautifulSoup\n",
    "import sqlite3\n",
    "from datetime import datetime"
   ]
  },
  {
   "cell_type": "markdown",
   "metadata": {},
   "source": [
    "<h2> Initialization</h2>"
   ]
  },
  {
   "cell_type": "code",
   "execution_count": 52,
   "metadata": {},
   "outputs": [],
   "source": [
    "url=\"https://en.wikipedia.org/wiki/List_of_countries_by_GDP_(nominal)\"\n",
    "table_name=\"Countries_by_GDP\"\n",
    "path=r\"C:\\Users\\GPU-TECH\\Desktop\\Importantجدا\\ETL_pipline\\Countries_by_GDP.csv\"\n",
    "db_name=\"World_Economies.db\"\n",
    "log_file='log_file.txt'\n"
   ]
  },
  {
   "cell_type": "markdown",
   "metadata": {},
   "source": [
    "<h2>Extract </h2>\n",
    "\n",
    "<p>This function extracts the required\n",
    "    information from the website and saves it to a dataframe. The\n",
    "    function returns the dataframe for further processing. </p>"
   ]
  },
  {
   "cell_type": "code",
   "execution_count": 53,
   "metadata": {},
   "outputs": [
    {
     "data": {
      "text/html": [
       "<div>\n",
       "<style scoped>\n",
       "    .dataframe tbody tr th:only-of-type {\n",
       "        vertical-align: middle;\n",
       "    }\n",
       "\n",
       "    .dataframe tbody tr th {\n",
       "        vertical-align: top;\n",
       "    }\n",
       "\n",
       "    .dataframe thead th {\n",
       "        text-align: right;\n",
       "    }\n",
       "</style>\n",
       "<table border=\"1\" class=\"dataframe\">\n",
       "  <thead>\n",
       "    <tr style=\"text-align: right;\">\n",
       "      <th></th>\n",
       "      <th>country</th>\n",
       "      <th>imf_forecast</th>\n",
       "      <th>worldbank_estimate</th>\n",
       "      <th>unitednations_estimate</th>\n",
       "    </tr>\n",
       "  </thead>\n",
       "  <tbody>\n",
       "    <tr>\n",
       "      <th>0</th>\n",
       "      <td>World</td>\n",
       "      <td>104,476,432</td>\n",
       "      <td>100,562,011</td>\n",
       "      <td>96,698,005</td>\n",
       "    </tr>\n",
       "    <tr>\n",
       "      <th>1</th>\n",
       "      <td>United States</td>\n",
       "      <td>26,949,643</td>\n",
       "      <td>25,462,700</td>\n",
       "      <td>23,315,081</td>\n",
       "    </tr>\n",
       "    <tr>\n",
       "      <th>2</th>\n",
       "      <td>China</td>\n",
       "      <td>17,700,899</td>\n",
       "      <td>17,963,171</td>\n",
       "      <td>17,734,131</td>\n",
       "    </tr>\n",
       "    <tr>\n",
       "      <th>3</th>\n",
       "      <td>Germany</td>\n",
       "      <td>4,429,838</td>\n",
       "      <td>4,072,192</td>\n",
       "      <td>4,259,935</td>\n",
       "    </tr>\n",
       "    <tr>\n",
       "      <th>4</th>\n",
       "      <td>Japan</td>\n",
       "      <td>4,230,862</td>\n",
       "      <td>4,231,141</td>\n",
       "      <td>4,940,878</td>\n",
       "    </tr>\n",
       "    <tr>\n",
       "      <th>...</th>\n",
       "      <td>...</td>\n",
       "      <td>...</td>\n",
       "      <td>...</td>\n",
       "      <td>...</td>\n",
       "    </tr>\n",
       "    <tr>\n",
       "      <th>177</th>\n",
       "      <td>Micronesia</td>\n",
       "      <td>458</td>\n",
       "      <td>427</td>\n",
       "      <td>404</td>\n",
       "    </tr>\n",
       "    <tr>\n",
       "      <th>178</th>\n",
       "      <td>Marshall Islands</td>\n",
       "      <td>277</td>\n",
       "      <td>280</td>\n",
       "      <td>257</td>\n",
       "    </tr>\n",
       "    <tr>\n",
       "      <th>179</th>\n",
       "      <td>Kiribati</td>\n",
       "      <td>246</td>\n",
       "      <td>223</td>\n",
       "      <td>227</td>\n",
       "    </tr>\n",
       "    <tr>\n",
       "      <th>180</th>\n",
       "      <td>Nauru</td>\n",
       "      <td>150</td>\n",
       "      <td>151</td>\n",
       "      <td>155</td>\n",
       "    </tr>\n",
       "    <tr>\n",
       "      <th>181</th>\n",
       "      <td>Tuvalu</td>\n",
       "      <td>63</td>\n",
       "      <td>60</td>\n",
       "      <td>60</td>\n",
       "    </tr>\n",
       "  </tbody>\n",
       "</table>\n",
       "<p>182 rows × 4 columns</p>\n",
       "</div>"
      ],
      "text/plain": [
       "              country imf_forecast worldbank_estimate unitednations_estimate\n",
       "0               World  104,476,432        100,562,011             96,698,005\n",
       "1       United States   26,949,643         25,462,700             23,315,081\n",
       "2               China   17,700,899         17,963,171             17,734,131\n",
       "3             Germany    4,429,838          4,072,192              4,259,935\n",
       "4               Japan    4,230,862          4,231,141              4,940,878\n",
       "..                ...          ...                ...                    ...\n",
       "177        Micronesia          458                427                    404\n",
       "178  Marshall Islands          277                280                    257\n",
       "179          Kiribati          246                223                    227\n",
       "180             Nauru          150                151                    155\n",
       "181            Tuvalu           63                 60                     60\n",
       "\n",
       "[182 rows x 4 columns]"
      ]
     },
     "execution_count": 53,
     "metadata": {},
     "output_type": "execute_result"
    }
   ],
   "source": [
    "def extract(url):\n",
    "    content=requests.get(url).text\n",
    "    data=BeautifulSoup(content,'html.parser')\n",
    "    \n",
    "    tables=data.find_all('tbody')\n",
    "    rows=tables[2].find_all('tr')\n",
    "    data_list=[]\n",
    "    for row in rows:\n",
    "        col=row.find_all('td')\n",
    "        if len(col)>=8:\n",
    "        \n",
    "            data_dict = {\n",
    "                'country': col[0].text.strip(),\n",
    "                'imf_forecast': col[2].text.strip(),\n",
    "                'worldbank_estimate': col[4].text.strip(),\n",
    "                'unitednations_estimate': col[6].text.strip(),\n",
    "            }\n",
    "            data_list.append(data_dict)\n",
    "    df=pd.DataFrame(data_list)\n",
    "    return df\n",
    "extract(url)"
   ]
  },
  {
   "cell_type": "markdown",
   "metadata": {},
   "source": [
    "<h2> Transform </h2>\n",
    "\n",
    "<p> This function converts the GDP information from Currency\n",
    "    format to float value, transforms the information of GDP from\n",
    "    USD (Millions) to USD (Billions) rounding to 2 decimal places.\n",
    "    The function returns the transformed dataframe.</p>"
   ]
  },
  {
   "cell_type": "code",
   "execution_count": 54,
   "metadata": {},
   "outputs": [],
   "source": [
    "def transform(df):\n",
    "    df['imf_forecast'] = df['imf_forecast'].str.replace(',', '').astype(float)\n",
    "    df['worldbank_estimate'] = df['worldbank_estimate'].str.replace(',', '').astype(float)\n",
    "    df['unitednations_estimate'] = df['unitednations_estimate'].str.replace(',', '').astype(float)\n",
    "    df['gdp_usd_billions'] = (df['imf_forecast'] + df['worldbank_estimate'] + df['unitednations_estimate']) / 1000\n",
    "    df['gdp_usd_billions'] = df['gdp_usd_billions'].round(2)\n",
    "    return df"
   ]
  },
  {
   "cell_type": "markdown",
   "metadata": {},
   "source": [
    "<h2>Load</h2>\n",
    "\n",
    "<p> This function saves the final dataframe as a `CSV` file \n",
    "    in the provided path. Function returns nothing.</p>\n"
   ]
  },
  {
   "cell_type": "code",
   "execution_count": 55,
   "metadata": {},
   "outputs": [],
   "source": [
    "def load_to_csv(df, csv_path):\n",
    "    df.to_csv(csv_path,index=False)\n"
   ]
  },
  {
   "cell_type": "markdown",
   "metadata": {},
   "source": [
    "<h2>Create_db</h2>\n",
    "\n",
    "<p>This function saves the final dataframe as a database table\n",
    "    with the provided name. Function returns nothing.</p>\n"
   ]
  },
  {
   "cell_type": "code",
   "execution_count": 56,
   "metadata": {},
   "outputs": [],
   "source": [
    "def load_to_db(df,sql_connection ,table_name):\n",
    "    df.to_sql(table_name,sql_connection,if_exists='replace',index=False)"
   ]
  },
  {
   "cell_type": "markdown",
   "metadata": {},
   "source": [
    "<h2>Querying the db</h2>"
   ]
  },
  {
   "cell_type": "code",
   "execution_count": 57,
   "metadata": {},
   "outputs": [],
   "source": [
    "def run_query(query_statement, sql_connection):\n",
    "    query_output = pd.read_sql(query_statement, sql_connection)\n",
    "    return query_output"
   ]
  },
  {
   "cell_type": "markdown",
   "metadata": {},
   "source": [
    "<h2>LOG_Progress</h2>\n",
    "\n",
    "<p> This function logs the mentioned message at a given stage of the code execution to a log file. Function returns nothing </p>\n",
    "\n"
   ]
  },
  {
   "cell_type": "code",
   "execution_count": 58,
   "metadata": {},
   "outputs": [],
   "source": [
    "def log_progress(message):\n",
    "    timestamp_format = '%Y-%h-%d-%H:%M:%S' # Year-Monthname-Day-Hour-Minute-Second \n",
    "    now = datetime.now() # get current timestamp \n",
    "    timestamp = now.strftime(timestamp_format) #strftime attribute to convert the timestamp to a string format\n",
    "    with open(log_file,\"a\") as f: \n",
    "        f.write(timestamp + ',' + message + '\\n') "
   ]
  },
  {
   "cell_type": "markdown",
   "metadata": {},
   "source": [
    "<h2>Function calls </h2>"
   ]
  },
  {
   "cell_type": "code",
   "execution_count": 61,
   "metadata": {},
   "outputs": [
    {
     "name": "stdout",
     "output_type": "stream",
     "text": [
      "              country  gdp_usd_billions\n",
      "0               World         301736.45\n",
      "1       United States          75727.42\n",
      "2               China          53398.20\n",
      "3             Germany          12761.96\n",
      "4               Japan          13402.88\n",
      "..                ...               ...\n",
      "177        Micronesia              1.29\n",
      "178  Marshall Islands              0.81\n",
      "179          Kiribati              0.70\n",
      "180             Nauru              0.46\n",
      "181            Tuvalu              0.18\n",
      "\n",
      "[182 rows x 2 columns]\n"
     ]
    }
   ],
   "source": [
    "log_progress('Preliminaries complete. Initiating ETL process')\n",
    "\n",
    "df = extract(url)\n",
    "\n",
    "log_progress('Data extraction complete. Initiating Transformation process')\n",
    "\n",
    "df = transform(df)\n",
    "\n",
    "log_progress('Data transformation complete. Initiating loading process')\n",
    "\n",
    "load_to_csv(df, path)\n",
    "\n",
    "log_progress('Data saved to CSV file')\n",
    "\n",
    "sql_connection = sqlite3.connect('World_Economies.db')\n",
    "\n",
    "log_progress('SQL Connection initiated.')\n",
    "\n",
    "load_to_db(df, sql_connection, table_name)\n",
    "\n",
    "log_progress('Data loaded to Database as table. Running the query')\n",
    "\n",
    "# Running the Query\n",
    "query_statement = f\"SELECT country,gdp_usd_billions FROM {table_name}\"  # Modify the table name to match the one used in the database\n",
    "result = run_query(query_statement, sql_connection)\n",
    "print(result)\n",
    "log_progress('Process Complete.')\n",
    "sql_connection.close()"
   ]
  }
 ],
 "metadata": {
  "kernelspec": {
   "display_name": "Python 3",
   "language": "python",
   "name": "python3"
  },
  "language_info": {
   "codemirror_mode": {
    "name": "ipython",
    "version": 3
   },
   "file_extension": ".py",
   "mimetype": "text/x-python",
   "name": "python",
   "nbconvert_exporter": "python",
   "pygments_lexer": "ipython3",
   "version": "3.11.5"
  }
 },
 "nbformat": 4,
 "nbformat_minor": 2
}
